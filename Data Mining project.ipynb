{
 "cells": [
  {
   "cell_type": "markdown",
   "metadata": {
    "_cell_guid": "5a18aefa-1518-4d43-abc2-b1fa9051d7b5",
    "_uuid": "cdbef80edb46e7f336491a700dce38e074398784"
   },
   "source": [
    "Project for \"Data mining\", spring 2019 \n",
    "Melania Berbatova\n",
    "\n",
    "Data from https://www.kaggle.com/snapcrack/all-the-news/data\n"
   ]
  },
  {
   "cell_type": "markdown",
   "metadata": {
    "_cell_guid": "c94c0f3d-5b5b-42f5-b4c9-5ddc2c3c5af1",
    "_uuid": "cfb448e8b9beb8d8a857da15376730dd8d0c628f"
   },
   "source": [
    "## Data Exploration"
   ]
  },
  {
   "cell_type": "code",
   "execution_count": 2,
   "metadata": {
    "_cell_guid": "ae1fbc7a-e384-4199-8f36-f1d1447bf786",
    "_uuid": "947abb51738a2c42e9bd1b465720bd624605ea06"
   },
   "outputs": [
    {
     "data": {
      "text/html": [
       "<div>\n",
       "<style scoped>\n",
       "    .dataframe tbody tr th:only-of-type {\n",
       "        vertical-align: middle;\n",
       "    }\n",
       "\n",
       "    .dataframe tbody tr th {\n",
       "        vertical-align: top;\n",
       "    }\n",
       "\n",
       "    .dataframe thead th {\n",
       "        text-align: right;\n",
       "    }\n",
       "</style>\n",
       "<table border=\"1\" class=\"dataframe\">\n",
       "  <thead>\n",
       "    <tr style=\"text-align: right;\">\n",
       "      <th></th>\n",
       "      <th>Unnamed: 0</th>\n",
       "      <th>id</th>\n",
       "      <th>title</th>\n",
       "      <th>publication</th>\n",
       "      <th>author</th>\n",
       "      <th>date</th>\n",
       "      <th>year</th>\n",
       "      <th>month</th>\n",
       "      <th>url</th>\n",
       "      <th>content</th>\n",
       "    </tr>\n",
       "  </thead>\n",
       "  <tbody>\n",
       "    <tr>\n",
       "      <th>0</th>\n",
       "      <td>0</td>\n",
       "      <td>17283</td>\n",
       "      <td>House Republicans Fret About Winning Their Hea...</td>\n",
       "      <td>New York Times</td>\n",
       "      <td>Carl Hulse</td>\n",
       "      <td>2016-12-31</td>\n",
       "      <td>2016.0</td>\n",
       "      <td>12.0</td>\n",
       "      <td>NaN</td>\n",
       "      <td>WASHINGTON  —   Congressional Republicans have...</td>\n",
       "    </tr>\n",
       "    <tr>\n",
       "      <th>1</th>\n",
       "      <td>1</td>\n",
       "      <td>17284</td>\n",
       "      <td>Rift Between Officers and Residents as Killing...</td>\n",
       "      <td>New York Times</td>\n",
       "      <td>Benjamin Mueller and Al Baker</td>\n",
       "      <td>2017-06-19</td>\n",
       "      <td>2017.0</td>\n",
       "      <td>6.0</td>\n",
       "      <td>NaN</td>\n",
       "      <td>After the bullet shells get counted, the blood...</td>\n",
       "    </tr>\n",
       "    <tr>\n",
       "      <th>2</th>\n",
       "      <td>2</td>\n",
       "      <td>17285</td>\n",
       "      <td>Tyrus Wong, ‘Bambi’ Artist Thwarted by Racial ...</td>\n",
       "      <td>New York Times</td>\n",
       "      <td>Margalit Fox</td>\n",
       "      <td>2017-01-06</td>\n",
       "      <td>2017.0</td>\n",
       "      <td>1.0</td>\n",
       "      <td>NaN</td>\n",
       "      <td>When Walt Disney’s “Bambi” opened in 1942, cri...</td>\n",
       "    </tr>\n",
       "    <tr>\n",
       "      <th>3</th>\n",
       "      <td>3</td>\n",
       "      <td>17286</td>\n",
       "      <td>Among Deaths in 2016, a Heavy Toll in Pop Musi...</td>\n",
       "      <td>New York Times</td>\n",
       "      <td>William McDonald</td>\n",
       "      <td>2017-04-10</td>\n",
       "      <td>2017.0</td>\n",
       "      <td>4.0</td>\n",
       "      <td>NaN</td>\n",
       "      <td>Death may be the great equalizer, but it isn’t...</td>\n",
       "    </tr>\n",
       "    <tr>\n",
       "      <th>4</th>\n",
       "      <td>4</td>\n",
       "      <td>17287</td>\n",
       "      <td>Kim Jong-un Says North Korea Is Preparing to T...</td>\n",
       "      <td>New York Times</td>\n",
       "      <td>Choe Sang-Hun</td>\n",
       "      <td>2017-01-02</td>\n",
       "      <td>2017.0</td>\n",
       "      <td>1.0</td>\n",
       "      <td>NaN</td>\n",
       "      <td>SEOUL, South Korea  —   North Korea’s leader, ...</td>\n",
       "    </tr>\n",
       "  </tbody>\n",
       "</table>\n",
       "</div>"
      ],
      "text/plain": [
       "   Unnamed: 0     id                                              title  \\\n",
       "0           0  17283  House Republicans Fret About Winning Their Hea...   \n",
       "1           1  17284  Rift Between Officers and Residents as Killing...   \n",
       "2           2  17285  Tyrus Wong, ‘Bambi’ Artist Thwarted by Racial ...   \n",
       "3           3  17286  Among Deaths in 2016, a Heavy Toll in Pop Musi...   \n",
       "4           4  17287  Kim Jong-un Says North Korea Is Preparing to T...   \n",
       "\n",
       "      publication                         author        date    year  month  \\\n",
       "0  New York Times                     Carl Hulse  2016-12-31  2016.0   12.0   \n",
       "1  New York Times  Benjamin Mueller and Al Baker  2017-06-19  2017.0    6.0   \n",
       "2  New York Times                   Margalit Fox  2017-01-06  2017.0    1.0   \n",
       "3  New York Times               William McDonald  2017-04-10  2017.0    4.0   \n",
       "4  New York Times                  Choe Sang-Hun  2017-01-02  2017.0    1.0   \n",
       "\n",
       "   url                                            content  \n",
       "0  NaN  WASHINGTON  —   Congressional Republicans have...  \n",
       "1  NaN  After the bullet shells get counted, the blood...  \n",
       "2  NaN  When Walt Disney’s “Bambi” opened in 1942, cri...  \n",
       "3  NaN  Death may be the great equalizer, but it isn’t...  \n",
       "4  NaN  SEOUL, South Korea  —   North Korea’s leader, ...  "
      ]
     },
     "execution_count": 2,
     "metadata": {},
     "output_type": "execute_result"
    }
   ],
   "source": [
    "import numpy as np\n",
    "import pandas as pd \n",
    "from sklearn.cluster import MiniBatchKMeans\n",
    "from sklearn.feature_extraction.text import TfidfVectorizer\n",
    "\n",
    "data = pd.read_csv('./articles1.csv',\n",
    "                   encoding='utf-8')\n",
    "data1 = pd.read_csv('./articles2.csv',\n",
    "                    encoding='utf-8')\n",
    "data2 = pd.read_csv('./articles3.csv',\n",
    "                    encoding='utf-8')\n",
    "\n",
    "text = pd.concat([data, data1, data2])\n",
    "text.head()"
   ]
  },
  {
   "cell_type": "code",
   "execution_count": null,
   "metadata": {},
   "outputs": [],
   "source": [
    "len(text)"
   ]
  },
  {
   "cell_type": "markdown",
   "metadata": {
    "_cell_guid": "6d997a92-0d16-41dc-89b8-6901b535af17",
    "_uuid": "07466665856dc0b0a0d89d7e50adf4da423ca315"
   },
   "source": [
    "## Using TF-IDF vectorize the articles\n"
   ]
  },
  {
   "cell_type": "code",
   "execution_count": 2,
   "metadata": {
    "_cell_guid": "ee7442ad-89da-493c-959f-2d0b7e3c9a40",
    "_uuid": "c43305078269683f780d6b2cf8c35efd20f5f9d4",
    "scrolled": true
   },
   "outputs": [
    {
     "data": {
      "text/plain": [
       "0    WASHINGTON  —   Congressional Republicans have...\n",
       "1    After the bullet shells get counted, the blood...\n",
       "2    When Walt Disney’s “Bambi” opened in 1942, cri...\n",
       "3    Death may be the great equalizer, but it isn’t...\n",
       "4    SEOUL, South Korea  —   North Korea’s leader, ...\n",
       "Name: content, dtype: object"
      ]
     },
     "execution_count": 2,
     "metadata": {},
     "output_type": "execute_result"
    }
   ],
   "source": [
    "text_content = text['content']\n",
    "vector = TfidfVectorizer(stop_words = 'english')\n",
    "tfidf = vector.fit_transform(text_content)\n",
    "text_content.head()"
   ]
  },
  {
   "cell_type": "markdown",
   "metadata": {},
   "source": [
    "## Visualizing the data using t-SNE \n",
    "\n",
    "t-SNE is a tool for data visualization. It reduces the dimensionality of data to 2 or 3 dimensions so that it can be plotted easily. Local similarities are preserved by this embedding."
   ]
  },
  {
   "cell_type": "code",
   "execution_count": 4,
   "metadata": {},
   "outputs": [],
   "source": [
    "#For high-dimensional sparse data it is helpful to first reduce the dimensions to 50 dimensions with TruncatedSVD and then perform t-SNE. This will usually improve the visualization.\n",
    "\n",
    "from sklearn.decomposition import TruncatedSVD\n",
    "\n",
    "X_reduced = TruncatedSVD(n_components=50, random_state=0).fit_transform(tfidf)\n",
    "\n"
   ]
  },
  {
   "cell_type": "code",
   "execution_count": 23,
   "metadata": {},
   "outputs": [
    {
     "name": "stdout",
     "output_type": "stream",
     "text": [
      "[t-SNE] Computing 121 nearest neighbors...\n",
      "[t-SNE] Indexed 142570 samples in 1.599s...\n",
      "[t-SNE] Computed neighbors for 142570 samples in 3492.838s...\n",
      "[t-SNE] Computed conditional probabilities for sample 1000 / 142570\n",
      "[t-SNE] Computed conditional probabilities for sample 2000 / 142570\n",
      "[t-SNE] Computed conditional probabilities for sample 3000 / 142570\n",
      "[t-SNE] Computed conditional probabilities for sample 4000 / 142570\n",
      "[t-SNE] Computed conditional probabilities for sample 5000 / 142570\n",
      "[t-SNE] Computed conditional probabilities for sample 6000 / 142570\n",
      "[t-SNE] Computed conditional probabilities for sample 7000 / 142570\n",
      "[t-SNE] Computed conditional probabilities for sample 8000 / 142570\n",
      "[t-SNE] Computed conditional probabilities for sample 9000 / 142570\n",
      "[t-SNE] Computed conditional probabilities for sample 10000 / 142570\n",
      "[t-SNE] Computed conditional probabilities for sample 11000 / 142570\n",
      "[t-SNE] Computed conditional probabilities for sample 12000 / 142570\n",
      "[t-SNE] Computed conditional probabilities for sample 13000 / 142570\n",
      "[t-SNE] Computed conditional probabilities for sample 14000 / 142570\n",
      "[t-SNE] Computed conditional probabilities for sample 15000 / 142570\n",
      "[t-SNE] Computed conditional probabilities for sample 16000 / 142570\n",
      "[t-SNE] Computed conditional probabilities for sample 17000 / 142570\n",
      "[t-SNE] Computed conditional probabilities for sample 18000 / 142570\n",
      "[t-SNE] Computed conditional probabilities for sample 19000 / 142570\n",
      "[t-SNE] Computed conditional probabilities for sample 20000 / 142570\n",
      "[t-SNE] Computed conditional probabilities for sample 21000 / 142570\n",
      "[t-SNE] Computed conditional probabilities for sample 22000 / 142570\n",
      "[t-SNE] Computed conditional probabilities for sample 23000 / 142570\n",
      "[t-SNE] Computed conditional probabilities for sample 24000 / 142570\n",
      "[t-SNE] Computed conditional probabilities for sample 25000 / 142570\n",
      "[t-SNE] Computed conditional probabilities for sample 26000 / 142570\n",
      "[t-SNE] Computed conditional probabilities for sample 27000 / 142570\n",
      "[t-SNE] Computed conditional probabilities for sample 28000 / 142570\n",
      "[t-SNE] Computed conditional probabilities for sample 29000 / 142570\n",
      "[t-SNE] Computed conditional probabilities for sample 30000 / 142570\n",
      "[t-SNE] Computed conditional probabilities for sample 31000 / 142570\n",
      "[t-SNE] Computed conditional probabilities for sample 32000 / 142570\n",
      "[t-SNE] Computed conditional probabilities for sample 33000 / 142570\n",
      "[t-SNE] Computed conditional probabilities for sample 34000 / 142570\n",
      "[t-SNE] Computed conditional probabilities for sample 35000 / 142570\n",
      "[t-SNE] Computed conditional probabilities for sample 36000 / 142570\n",
      "[t-SNE] Computed conditional probabilities for sample 37000 / 142570\n",
      "[t-SNE] Computed conditional probabilities for sample 38000 / 142570\n",
      "[t-SNE] Computed conditional probabilities for sample 39000 / 142570\n",
      "[t-SNE] Computed conditional probabilities for sample 40000 / 142570\n",
      "[t-SNE] Computed conditional probabilities for sample 41000 / 142570\n",
      "[t-SNE] Computed conditional probabilities for sample 42000 / 142570\n",
      "[t-SNE] Computed conditional probabilities for sample 43000 / 142570\n",
      "[t-SNE] Computed conditional probabilities for sample 44000 / 142570\n",
      "[t-SNE] Computed conditional probabilities for sample 45000 / 142570\n",
      "[t-SNE] Computed conditional probabilities for sample 46000 / 142570\n",
      "[t-SNE] Computed conditional probabilities for sample 47000 / 142570\n",
      "[t-SNE] Computed conditional probabilities for sample 48000 / 142570\n",
      "[t-SNE] Computed conditional probabilities for sample 49000 / 142570\n",
      "[t-SNE] Computed conditional probabilities for sample 50000 / 142570\n",
      "[t-SNE] Computed conditional probabilities for sample 51000 / 142570\n",
      "[t-SNE] Computed conditional probabilities for sample 52000 / 142570\n",
      "[t-SNE] Computed conditional probabilities for sample 53000 / 142570\n",
      "[t-SNE] Computed conditional probabilities for sample 54000 / 142570\n",
      "[t-SNE] Computed conditional probabilities for sample 55000 / 142570\n",
      "[t-SNE] Computed conditional probabilities for sample 56000 / 142570\n",
      "[t-SNE] Computed conditional probabilities for sample 57000 / 142570\n",
      "[t-SNE] Computed conditional probabilities for sample 58000 / 142570\n",
      "[t-SNE] Computed conditional probabilities for sample 59000 / 142570\n",
      "[t-SNE] Computed conditional probabilities for sample 60000 / 142570\n",
      "[t-SNE] Computed conditional probabilities for sample 61000 / 142570\n",
      "[t-SNE] Computed conditional probabilities for sample 62000 / 142570\n",
      "[t-SNE] Computed conditional probabilities for sample 63000 / 142570\n",
      "[t-SNE] Computed conditional probabilities for sample 64000 / 142570\n",
      "[t-SNE] Computed conditional probabilities for sample 65000 / 142570\n",
      "[t-SNE] Computed conditional probabilities for sample 66000 / 142570\n",
      "[t-SNE] Computed conditional probabilities for sample 67000 / 142570\n",
      "[t-SNE] Computed conditional probabilities for sample 68000 / 142570\n",
      "[t-SNE] Computed conditional probabilities for sample 69000 / 142570\n",
      "[t-SNE] Computed conditional probabilities for sample 70000 / 142570\n",
      "[t-SNE] Computed conditional probabilities for sample 71000 / 142570\n",
      "[t-SNE] Computed conditional probabilities for sample 72000 / 142570\n",
      "[t-SNE] Computed conditional probabilities for sample 73000 / 142570\n",
      "[t-SNE] Computed conditional probabilities for sample 74000 / 142570\n",
      "[t-SNE] Computed conditional probabilities for sample 75000 / 142570\n",
      "[t-SNE] Computed conditional probabilities for sample 76000 / 142570\n",
      "[t-SNE] Computed conditional probabilities for sample 77000 / 142570\n",
      "[t-SNE] Computed conditional probabilities for sample 78000 / 142570\n",
      "[t-SNE] Computed conditional probabilities for sample 79000 / 142570\n",
      "[t-SNE] Computed conditional probabilities for sample 80000 / 142570\n",
      "[t-SNE] Computed conditional probabilities for sample 81000 / 142570\n",
      "[t-SNE] Computed conditional probabilities for sample 82000 / 142570\n",
      "[t-SNE] Computed conditional probabilities for sample 83000 / 142570\n",
      "[t-SNE] Computed conditional probabilities for sample 84000 / 142570\n",
      "[t-SNE] Computed conditional probabilities for sample 85000 / 142570\n",
      "[t-SNE] Computed conditional probabilities for sample 86000 / 142570\n",
      "[t-SNE] Computed conditional probabilities for sample 87000 / 142570\n",
      "[t-SNE] Computed conditional probabilities for sample 88000 / 142570\n",
      "[t-SNE] Computed conditional probabilities for sample 89000 / 142570\n",
      "[t-SNE] Computed conditional probabilities for sample 90000 / 142570\n",
      "[t-SNE] Computed conditional probabilities for sample 91000 / 142570\n",
      "[t-SNE] Computed conditional probabilities for sample 92000 / 142570\n",
      "[t-SNE] Computed conditional probabilities for sample 93000 / 142570\n",
      "[t-SNE] Computed conditional probabilities for sample 94000 / 142570\n",
      "[t-SNE] Computed conditional probabilities for sample 95000 / 142570\n",
      "[t-SNE] Computed conditional probabilities for sample 96000 / 142570\n",
      "[t-SNE] Computed conditional probabilities for sample 97000 / 142570\n",
      "[t-SNE] Computed conditional probabilities for sample 98000 / 142570\n",
      "[t-SNE] Computed conditional probabilities for sample 99000 / 142570\n",
      "[t-SNE] Computed conditional probabilities for sample 100000 / 142570\n",
      "[t-SNE] Computed conditional probabilities for sample 101000 / 142570\n",
      "[t-SNE] Computed conditional probabilities for sample 102000 / 142570\n",
      "[t-SNE] Computed conditional probabilities for sample 103000 / 142570\n",
      "[t-SNE] Computed conditional probabilities for sample 104000 / 142570\n",
      "[t-SNE] Computed conditional probabilities for sample 105000 / 142570\n",
      "[t-SNE] Computed conditional probabilities for sample 106000 / 142570\n",
      "[t-SNE] Computed conditional probabilities for sample 107000 / 142570\n",
      "[t-SNE] Computed conditional probabilities for sample 108000 / 142570\n",
      "[t-SNE] Computed conditional probabilities for sample 109000 / 142570\n",
      "[t-SNE] Computed conditional probabilities for sample 110000 / 142570\n",
      "[t-SNE] Computed conditional probabilities for sample 111000 / 142570\n",
      "[t-SNE] Computed conditional probabilities for sample 112000 / 142570\n",
      "[t-SNE] Computed conditional probabilities for sample 113000 / 142570\n",
      "[t-SNE] Computed conditional probabilities for sample 114000 / 142570\n",
      "[t-SNE] Computed conditional probabilities for sample 115000 / 142570\n",
      "[t-SNE] Computed conditional probabilities for sample 116000 / 142570\n",
      "[t-SNE] Computed conditional probabilities for sample 117000 / 142570\n",
      "[t-SNE] Computed conditional probabilities for sample 118000 / 142570\n",
      "[t-SNE] Computed conditional probabilities for sample 119000 / 142570\n",
      "[t-SNE] Computed conditional probabilities for sample 120000 / 142570\n",
      "[t-SNE] Computed conditional probabilities for sample 121000 / 142570\n",
      "[t-SNE] Computed conditional probabilities for sample 122000 / 142570\n",
      "[t-SNE] Computed conditional probabilities for sample 123000 / 142570\n",
      "[t-SNE] Computed conditional probabilities for sample 124000 / 142570\n",
      "[t-SNE] Computed conditional probabilities for sample 125000 / 142570\n",
      "[t-SNE] Computed conditional probabilities for sample 126000 / 142570\n",
      "[t-SNE] Computed conditional probabilities for sample 127000 / 142570\n",
      "[t-SNE] Computed conditional probabilities for sample 128000 / 142570\n",
      "[t-SNE] Computed conditional probabilities for sample 129000 / 142570\n"
     ]
    },
    {
     "name": "stdout",
     "output_type": "stream",
     "text": [
      "[t-SNE] Computed conditional probabilities for sample 130000 / 142570\n",
      "[t-SNE] Computed conditional probabilities for sample 131000 / 142570\n",
      "[t-SNE] Computed conditional probabilities for sample 132000 / 142570\n",
      "[t-SNE] Computed conditional probabilities for sample 133000 / 142570\n",
      "[t-SNE] Computed conditional probabilities for sample 134000 / 142570\n",
      "[t-SNE] Computed conditional probabilities for sample 135000 / 142570\n",
      "[t-SNE] Computed conditional probabilities for sample 136000 / 142570\n",
      "[t-SNE] Computed conditional probabilities for sample 137000 / 142570\n",
      "[t-SNE] Computed conditional probabilities for sample 138000 / 142570\n",
      "[t-SNE] Computed conditional probabilities for sample 139000 / 142570\n",
      "[t-SNE] Computed conditional probabilities for sample 140000 / 142570\n",
      "[t-SNE] Computed conditional probabilities for sample 141000 / 142570\n",
      "[t-SNE] Computed conditional probabilities for sample 142000 / 142570\n",
      "[t-SNE] Computed conditional probabilities for sample 142570 / 142570\n",
      "[t-SNE] Mean sigma: 0.000000\n",
      "[t-SNE] Computed conditional probabilities in 12.726s\n",
      "[t-SNE] Iteration 50: error = 112.4588928, gradient norm = 0.0000001 (50 iterations in 328.196s)\n",
      "[t-SNE] Iteration 50: gradient norm 0.000000. Finished.\n",
      "[t-SNE] KL divergence after 50 iterations with early exaggeration: 112.458893\n",
      "[t-SNE] Iteration 100: error = 7.1606054, gradient norm = 0.0000129 (50 iterations in 353.526s)\n",
      "[t-SNE] Iteration 150: error = 5.9731278, gradient norm = 0.0013000 (50 iterations in 363.477s)\n",
      "[t-SNE] Iteration 200: error = 5.1774635, gradient norm = 0.0005912 (50 iterations in 284.357s)\n",
      "[t-SNE] Iteration 250: error = 4.8161197, gradient norm = 0.0004244 (50 iterations in 281.779s)\n",
      "[t-SNE] Iteration 300: error = 4.5623765, gradient norm = 0.0003306 (50 iterations in 280.880s)\n",
      "[t-SNE] Iteration 350: error = 4.3731446, gradient norm = 0.0002641 (50 iterations in 277.426s)\n",
      "[t-SNE] Iteration 400: error = 4.2280927, gradient norm = 0.0002179 (50 iterations in 272.209s)\n",
      "[t-SNE] Iteration 450: error = 4.1123633, gradient norm = 0.0001838 (50 iterations in 273.896s)\n",
      "[t-SNE] Iteration 500: error = 4.0164080, gradient norm = 0.0001586 (50 iterations in 275.633s)\n",
      "[t-SNE] Iteration 550: error = 3.9294751, gradient norm = 0.0001388 (50 iterations in 271.154s)\n",
      "[t-SNE] Iteration 600: error = 3.8523817, gradient norm = 0.0001227 (50 iterations in 272.812s)\n",
      "[t-SNE] Iteration 650: error = 3.7860818, gradient norm = 0.0001106 (50 iterations in 269.779s)\n",
      "[t-SNE] Iteration 700: error = 3.7271664, gradient norm = 0.0000999 (50 iterations in 270.441s)\n",
      "[t-SNE] Iteration 750: error = 3.6745553, gradient norm = 0.0000908 (50 iterations in 275.531s)\n",
      "[t-SNE] Iteration 800: error = 3.6274245, gradient norm = 0.0000829 (50 iterations in 272.504s)\n",
      "[t-SNE] Iteration 850: error = 3.5844932, gradient norm = 0.0000764 (50 iterations in 271.005s)\n",
      "[t-SNE] Iteration 900: error = 3.5453825, gradient norm = 0.0000706 (50 iterations in 281.987s)\n",
      "[t-SNE] Iteration 950: error = 3.5092909, gradient norm = 0.0000657 (50 iterations in 272.431s)\n",
      "[t-SNE] Iteration 1000: error = 3.4762316, gradient norm = 0.0000613 (50 iterations in 264.941s)\n",
      "[t-SNE] KL divergence after 1000 iterations: 3.476232\n"
     ]
    }
   ],
   "source": [
    "#t-NSE embeddings \n",
    "\n",
    "from sklearn.manifold import TSNE\n",
    "X_embedded = TSNE(n_components=2, perplexity=40, verbose=2).fit_transform(X_reduced)"
   ]
  },
  {
   "cell_type": "code",
   "execution_count": 7,
   "metadata": {},
   "outputs": [
    {
     "name": "stdout",
     "output_type": "stream",
     "text": [
      "Populating the interactive namespace from numpy and matplotlib\n"
     ]
    },
    {
     "name": "stderr",
     "output_type": "stream",
     "text": [
      "C:\\Users\\melania\\Anaconda3\\envs\\text-mining\\lib\\site-packages\\IPython\\core\\magics\\pylab.py:160: UserWarning: pylab import has clobbered these variables: ['text']\n",
      "`%matplotlib` prevents importing * from pylab and numpy\n",
      "  \"\\n`%matplotlib` prevents importing * from pylab and numpy\"\n"
     ]
    }
   ],
   "source": [
    "%pylab inline"
   ]
  },
  {
   "cell_type": "code",
   "execution_count": 29,
   "metadata": {
    "scrolled": true
   },
   "outputs": [
    {
     "data": {
      "text/plain": [
       "<matplotlib.collections.PathCollection at 0x1d29ebd6c88>"
      ]
     },
     "execution_count": 29,
     "metadata": {},
     "output_type": "execute_result"
    },
    {
     "data": {
      "text/plain": [
       "<Figure size 720x360 with 0 Axes>"
      ]
     },
     "metadata": {},
     "output_type": "display_data"
    },
    {
     "data": {
      "image/png": "[encoded data removed]",
      "text/plain": [
       "<Figure size 720x720 with 1 Axes>"
      ]
     },
     "metadata": {},
     "output_type": "display_data"
    }
   ],
   "source": [
    "#visualizing \n",
    "\n",
    "figure(figsize=(10, 5))\n",
    "fig = figure(figsize=(10, 10))\n",
    "ax = axes(frameon=False)\n",
    "setp(ax, xticks=(), yticks=())\n",
    "subplots_adjust(left=0.0, bottom=0.0, right=1.0, top=0.9,\n",
    "                wspace=0.0, hspace=0.0)\n",
    "scatter(X_embedded[:, 0], X_embedded[:, 1], marker=\"x\")\n"
   ]
  },
  {
   "cell_type": "code",
   "execution_count": 5,
   "metadata": {},
   "outputs": [],
   "source": [
    "from sklearn.datasets import load_digits\n",
    "from sklearn.manifold import LocallyLinearEmbedding\n",
    "embedding = LocallyLinearEmbedding(n_components=2)\n",
    "X_transformed = embedding.fit_transform(X_reduced[:100])"
   ]
  },
  {
   "cell_type": "code",
   "execution_count": 8,
   "metadata": {},
   "outputs": [
    {
     "data": {
      "text/plain": [
       "<matplotlib.collections.PathCollection at 0x15090aa6be0>"
      ]
     },
     "execution_count": 8,
     "metadata": {},
     "output_type": "execute_result"
    },
    {
     "data": {
      "text/plain": [
       "<Figure size 720x360 with 0 Axes>"
      ]
     },
     "metadata": {},
     "output_type": "display_data"
    },
    {
     "data": {
      "image/png": "[encoded data removed]",
      "text/plain": [
       "<Figure size 720x720 with 1 Axes>"
      ]
     },
     "metadata": {},
     "output_type": "display_data"
    }
   ],
   "source": [
    "figure(figsize=(10, 5))\n",
    "fig = figure(figsize=(10, 10))\n",
    "ax = axes(frameon=False)\n",
    "setp(ax, xticks=(), yticks=())\n",
    "subplots_adjust(left=0.0, bottom=0.0, right=1.0, top=0.9,\n",
    "                wspace=0.0, hspace=0.0)\n",
    "scatter(X_transformed[:, 0], X_transformed[:, 1], marker=\"x\")"
   ]
  },
  {
   "cell_type": "markdown",
   "metadata": {
    "_cell_guid": "f1ea7f69-3851-447e-8c2c-cbd3c474b15d",
    "_uuid": "f07b0f508af44fe7df95ec2b8540745d4db61dd6"
   },
   "source": [
    "**3. Using elbow method to decide cluster number**\n",
    "\n",
    "Introduction to [elbow method](https://en.wikipedia.org/wiki/Elbow_method_(clustering)) - One should choose a number of clusters so that adding another cluster doesn't give much better modeling of the data. "
   ]
  },
  {
   "cell_type": "code",
   "execution_count": 5,
   "metadata": {
    "_cell_guid": "b1076dfc-b9ad-4769-8c92-a6c4dae69d19",
    "_uuid": "8f2839f25d086af736a60e9eeb907d3b93b6e0e5"
   },
   "outputs": [
    {
     "data": {
      "image/png": "[encoded data removed]",
      "text/plain": [
       "<Figure size 432x288 with 1 Axes>"
      ]
     },
     "metadata": {
      "needs_background": "light"
     },
     "output_type": "display_data"
    }
   ],
   "source": [
    "K = range(1,30)\n",
    "SSE = []\n",
    "for k in K:\n",
    "    kmeans = MiniBatchKMeans(n_clusters = k,batch_size = 300)\n",
    "    kmeans.fit(tfidf)\n",
    "    SSE.append(kmeans.inertia_)\n",
    "    \n",
    "import matplotlib.pyplot as plt\n",
    "plt.plot(K,SSE,'bx-')\n",
    "plt.title('Elbow Method')\n",
    "plt.xlabel('cluster numbers')\n",
    "plt.show()\n",
    "\n"
   ]
  },
  {
   "cell_type": "markdown",
   "metadata": {
    "_cell_guid": "4aa9e2e3-7f2a-42e1-ad83-1554af72222a",
    "_uuid": "ff2c3b75655ac0b3328820d7adb7414079e5a8ca"
   },
   "source": [
    "## Using MiniBatchKMean to cluster\n",
    "\n",
    "[Comparison of the K-Means and MiniBatchKMeans clustering algorithms](http://scikit-learn.org/stable/auto_examples/cluster/plot_mini_batch_kmeans.html#sphx-glr-auto-examples-cluster-plot-mini-batch-kmeans-py)"
   ]
  },
  {
   "cell_type": "code",
   "execution_count": 9,
   "metadata": {
    "_cell_guid": "79c7e3d0-c299-4dcb-8224-4455121ee9b0",
    "_uuid": "d629ff2d2480ee46fbb7e2d37f6b5fab8052498a",
    "scrolled": true
   },
   "outputs": [
    {
     "name": "stdout",
     "output_type": "stream",
     "text": [
      "cluster0:\n",
      "['said', 'people', 'new', 'police', 'like', 'says', 'just', 'percent', 'year', 'time', 'years', 'company', 'women', 'state', 'told']\n",
      "cluster1:\n",
      "['clinton', 'comey', 'trump', 'fbi', 'said', 'investigation', 'intelligence', 'hillary', 'flynn', 'russia', 'campaign', 'russian', 'president', 'emails', 'email']\n",
      "cluster2:\n",
      "['said', 'korea', 'syria', 'north', 'military', 'iran', 'china', 'isis', 'syrian', 'nuclear', 'russia', 'islamic', 'united', 'forces', 'trump']\n",
      "cluster3:\n",
      "['trump', 'clinton', 'said', 'president', 'republican', 'donald', 'campaign', 'obama', 'cruz', 'house', 'mr', 'republicans', 'party', 'people', 'hillary']\n",
      "0.0\n"
     ]
    }
   ],
   "source": [
    "k = 4\n",
    "kmeans = MiniBatchKMeans(n_clusters = k)\n",
    "kmeans.fit(tfidf)\n",
    "centers = kmeans.cluster_centers_.argsort()[:,::-1]\n",
    "terms = vector.get_feature_names()\n",
    "\n",
    "import time\n",
    "\n",
    "start = time.time()\n",
    "\n",
    "for i in range(0,k):\n",
    "    word_list=[]\n",
    "    print(\"cluster%d:\"% i)\n",
    "    for j in centers[i,:15]:\n",
    "        word_list.append(terms[j])\n",
    "    print(word_list) \n",
    "    \n",
    "end = time.time()\n",
    "print(end - start)\n"
   ]
  },
  {
   "cell_type": "code",
   "execution_count": 12,
   "metadata": {},
   "outputs": [
    {
     "data": {
      "text/plain": [
       "array([3, 0, 0, ..., 0, 0, 0])"
      ]
     },
     "execution_count": 12,
     "metadata": {},
     "output_type": "execute_result"
    }
   ],
   "source": [
    "labels = kmeans.labels_\n",
    "labels"
   ]
  },
  {
   "cell_type": "code",
   "execution_count": null,
   "metadata": {},
   "outputs": [],
   "source": [
    "cluster0:\n",
    "['apple', 'tesla', 'company', 'google', 'uber', 'yahoo', 'iphone', 'musk', 'ceo', 'cars', 'companies', 'billion', 'car', 'microsoft', 'business']\n",
    "cluster1:\n",
    "['trump', 'clinton', 'said', 'mr', 'president', 'campaign', 'donald', 'republican', 'hillary', 'obama', 'house', 'cruz', 'presidential', 'people', 'election']\n",
    "cluster2:\n",
    "['said', 'people', 'new', 'like', 'twitter', 'just', 'news', 'trump', 'time', 'women', 'breitbart', 'president', 'year', 'clinton', 'years']\n",
    "cluster3:\n",
    "['said', 'police', 'mr', 'state', 'people', 'united', 'attack', 'president', 'government', 'security', 'states', 'isis', 'officers', 'obama', 'law']\n",
    "0.0024802684783935547\n"
   ]
  },
  {
   "cell_type": "code",
   "execution_count": 14,
   "metadata": {},
   "outputs": [
    {
     "data": {
      "text/plain": [
       "array([[ 11401, 151447,  33829, ..., 111890, 111889,  86949],\n",
       "       [156192,  32158, 132283, ..., 104605, 104606,  86949],\n",
       "       [132283, 115182, 105792, ...,  38832,  38831, 126433],\n",
       "       [132283, 118304, 102249, ..., 101308, 101309,  86949]], dtype=int64)"
      ]
     },
     "execution_count": 14,
     "metadata": {},
     "output_type": "execute_result"
    }
   ],
   "source": [
    "centers"
   ]
  },
  {
   "cell_type": "code",
   "execution_count": 17,
   "metadata": {
    "scrolled": true
   },
   "outputs": [
    {
     "name": "stdout",
     "output_type": "stream",
     "text": [
      "cluster0:\n",
      "['women', 'abortion', 'men', 'woman', 'female', 'said', 'clinton', 'gender', 'trump', 'sexual', 'like', 'people', 'abortions', 'rights', 'percent']\n",
      "cluster1:\n",
      "['said', 'people', 'says', 'like', 'new', 'just', 'company', 'time', 'year', 'years', 'world', 'don', 'news', 'million', 'way']\n",
      "cluster2:\n",
      "['said', 'police', 'state', 'president', 'trump', 'people', 'government', 'obama', 'court', 'states', 'percent', 'united', 'new', 'law', 'security']\n",
      "cluster3:\n",
      "['health', 'obamacare', 'care', 'insurance', 'republicans', 'house', 'zika', 'repeal', 'medicaid', 'tax', 'trump', 'said', 'plan', 'coverage', 'people']\n",
      "cluster4:\n",
      "['iran', 'iranian', 'nuclear', 'deal', 'saudi', 'tehran', 'sanctions', 'said', 'obama', 'rouhani', 'arabia', 'missile', 'trump', 'administration', 'iranians']\n",
      "cluster5:\n",
      "['cyber', 'fed', 'bank', 'security', 'panel', 'central', 'records', 'breaches', 'committee', 'reserve', 'letter', 'federal', 'information', 'financial', 'incident']\n",
      "cluster6:\n",
      "['trump', 'clinton', 'said', 'president', 'campaign', 'donald', 'republican', 'hillary', 'obama', 'cruz', 'mr', 'election', 'sanders', 'house', 'party']\n",
      "cluster7:\n",
      "['students', 'school', 'schools', 'education', 'student', 'university', 'college', 'said', 'campus', 'teachers', 'devos', 'parents', 'kids', 'children', 'public']\n",
      "0.0\n"
     ]
    }
   ],
   "source": [
    "k = 8\n",
    "kmeans8 = MiniBatchKMeans(n_clusters = k)\n",
    "kmeans8.fit(tfidf)\n",
    "centers = kmeans8.cluster_centers_.argsort()[:,::-1]\n",
    "terms = vector.get_feature_names()\n",
    "\n",
    "import time\n",
    "\n",
    "start = time.time()\n",
    "\n",
    "for i in range(0,k):\n",
    "    word_list=[]\n",
    "    print(\"cluster%d:\"% i)\n",
    "    for j in centers[i,:15]:\n",
    "        word_list.append(terms[j])\n",
    "    print(word_list) \n",
    "    \n",
    "end = time.time()\n",
    "print(end - start)"
   ]
  },
  {
   "cell_type": "code",
   "execution_count": 18,
   "metadata": {},
   "outputs": [],
   "source": [
    "labels8 = kmeans8.labels_"
   ]
  },
  {
   "cell_type": "code",
   "execution_count": 20,
   "metadata": {},
   "outputs": [
    {
     "name": "stdout",
     "output_type": "stream",
     "text": [
      "cluster0:\n",
      "['holcomb', 'marijuana', 'raid', 'plant', 'massachusetts', 'pot', 'helicopter', 'plants', 'gazette', 'police', 'legalization', 'harmless', 'deploying', 'relatively', 'related2016']\n",
      "cluster1:\n",
      "['clinton', 'sanders', 'hillary', 'trump', 'campaign', 'democratic', 'said', 'state', 'bernie', 'obama', 'presidential', 'president', 'email', 'emails', 'party']\n",
      "cluster2:\n",
      "['syria', 'isis', 'said', 'syrian', 'iran', 'islamic', 'military', 'forces', 'turkey', 'state', 'iraq', 'russia', 'assad', 'war', 'attack']\n",
      "cluster3:\n",
      "['academy', 'directors', 'members', 'branch', 'film', 'allain', 'percent', 'oscar', 'hollywood', 'industry', 'lurie', 'black', 'executives', 'diverse', 'movies']\n",
      "cluster4:\n",
      "['percent', 'billion', 'market', 'fed', 'growth', 'said', 'bank', 'oil', 'rate', 'economy', 'prices', 'investors', 'inflation', 'year', 'company']\n",
      "cluster5:\n",
      "['baculum', 'intromission', 'mating', 'brindle', 'opie', 'humans', 'mammals', 'species', 'monogamy', 'penis', 'prolonged', 'bones', 'competition', 'male', 'study']\n",
      "cluster6:\n",
      "['coulter', 'miller', 'trump', 'marlow', 'stephen', 'adjectives', 'thousand', 'gosh', 'need', 'scarborough', 'just', 'know', 'oh', 'joe', 'worry']\n",
      "cluster7:\n",
      "['police', 'said', 'officers', 'officer', 'shooting', 'man', 'shot', 'black', 'people', 'attack', 'killed', 'city', 'department', 'suspect', 'gun']\n",
      "cluster8:\n",
      "['dossier', 'intelligence', 'realdonaldtrump', 'originated', 'pac', '13', 'leaks', '2017', 'sleazebag', 'january', 'file', 'trump', 'community', 'super', 'donald']\n",
      "cluster9:\n",
      "['people', 'says', 'women', 'health', 'like', 'said', 'just', 'don', 'students', 'think', 'school', 'care', 'new', 'time', 'know']\n",
      "cluster10:\n",
      "['percent', 'trump', 'poll', 'voters', 'clinton', 'cruz', 'points', 'republican', 'polls', 'vote', 'republicans', 'rubio', 'democrats', 'support', 'party']\n",
      "cluster11:\n",
      "['korea', 'north', 'korean', 'missile', 'nuclear', 'kim', 'china', 'south', 'pyongyang', 'said', 'jong', 'trump', 'missiles', 'test', 'ballistic']\n",
      "cluster12:\n",
      "['trump', 'said', 'president', 'donald', 'republican', 'campaign', 'house', 'obama', 'cruz', 'mr', 'republicans', 'clinton', 'party', 'people', 'white']\n",
      "cluster13:\n",
      "['said', 'new', 'people', 'company', 'court', 'like', 'year', 'time', 'news', 'just', 'years', 'state', 'told', 'president', 'says']\n",
      "cluster14:\n",
      "['comey', 'trump', 'russia', 'intelligence', 'russian', 'fbi', 'flynn', 'investigation', 'president', 'said', 'house', 'committee', 'putin', 'election', 'director']\n",
      "0.0\n"
     ]
    }
   ],
   "source": [
    "k = 15\n",
    "kmeans15 = MiniBatchKMeans(n_clusters = k)\n",
    "kmeans15.fit(tfidf)\n",
    "centers = kmeans15.cluster_centers_.argsort()[:,::-1]\n",
    "terms = vector.get_feature_names()\n",
    "\n",
    "import time\n",
    "\n",
    "start = time.time()\n",
    "\n",
    "for i in range(0,k):\n",
    "    word_list=[]\n",
    "    print(\"cluster%d:\"% i)\n",
    "    for j in centers[i,:15]:\n",
    "        word_list.append(terms[j])\n",
    "    print(word_list) \n",
    "    \n",
    "end = time.time()\n",
    "print(end - start)"
   ]
  },
  {
   "cell_type": "code",
   "execution_count": 22,
   "metadata": {},
   "outputs": [],
   "source": [
    "labels15 = kmeans15.labels_"
   ]
  },
  {
   "cell_type": "markdown",
   "metadata": {},
   "source": [
    "### DBSCAN"
   ]
  },
  {
   "cell_type": "code",
   "execution_count": null,
   "metadata": {},
   "outputs": [],
   "source": [
    "from sklearn.cluster import DBSCAN\n",
    "import numpy as np\n",
    "#X = np.array([[1, 2], [2, 2], [2, 3], [8, 7], [8, 8], [25, 80]])\n",
    "clustering = DBSCAN(min_samples=15).fit(tfidf)\n",
    "\n"
   ]
  },
  {
   "cell_type": "code",
   "execution_count": 33,
   "metadata": {},
   "outputs": [],
   "source": [
    "labels = clustering.labels_"
   ]
  },
  {
   "cell_type": "code",
   "execution_count": 29,
   "metadata": {},
   "outputs": [],
   "source": [
    "terms = vector.get_feature_names()"
   ]
  },
  {
   "cell_type": "code",
   "execution_count": 30,
   "metadata": {},
   "outputs": [
    {
     "data": {
      "text/plain": [
       "-0.28282663725918494"
      ]
     },
     "execution_count": 30,
     "metadata": {},
     "output_type": "execute_result"
    }
   ],
   "source": [
    "from sklearn.metrics import silhouette_score\n",
    "silhouette_score(tfidf, labels)"
   ]
  },
  {
   "cell_type": "markdown",
   "metadata": {},
   "source": [
    "### Siluette score "
   ]
  },
  {
   "cell_type": "code",
   "execution_count": 15,
   "metadata": {},
   "outputs": [
    {
     "data": {
      "text/plain": [
       "0.0014008221057970548"
      ]
     },
     "execution_count": 15,
     "metadata": {},
     "output_type": "execute_result"
    }
   ],
   "source": [
    "from sklearn.metrics import silhouette_score\n",
    "silhouette_score(tfidf, labels)"
   ]
  },
  {
   "cell_type": "code",
   "execution_count": 19,
   "metadata": {},
   "outputs": [
    {
     "data": {
      "text/plain": [
       "0.0011935398272406295"
      ]
     },
     "execution_count": 19,
     "metadata": {},
     "output_type": "execute_result"
    }
   ],
   "source": [
    "silhouette_score(tfidf, labels8)"
   ]
  },
  {
   "cell_type": "code",
   "execution_count": 26,
   "metadata": {},
   "outputs": [
    {
     "data": {
      "text/plain": [
       "-0.004136263256630926"
      ]
     },
     "execution_count": 26,
     "metadata": {},
     "output_type": "execute_result"
    }
   ],
   "source": [
    "silhouette_score(tfidf, labels15)"
   ]
  },
  {
   "cell_type": "markdown",
   "metadata": {
    "_cell_guid": "072d722c-169b-4720-8891-460d31fa95e2",
    "_uuid": "9f53f5a90394a45fa50610d65c2c718ae151cbf9"
   },
   "source": [
    "## Topics modeling \n",
    "\n",
    "Here I use NMF instead of LDA because LDA's calculation is time-consuming. \n",
    "\n",
    "The major topics consist of politics, society, finance and internetional affairs, which is quite similiar to our cluster result."
   ]
  },
  {
   "cell_type": "code",
   "execution_count": 25,
   "metadata": {
    "_uuid": "9a7d72986d3daefb805e27ceaf8c9affbe722552",
    "scrolled": true
   },
   "outputs": [
    {
     "name": "stdout",
     "output_type": "stream",
     "text": [
      "Topic0:\n",
      "['presidential', 'obama', 'party', 'gop', 'election', 'white', 'said', 'republicans', 'mr', 'house', 'cruz', 'campaign', 'republican', 'donald', 'president']\n",
      "Topic1:\n",
      "['going', 'company', 'think', 'don', 'health', 'years', 'time', 'year', 'women', 'new', 'just', 'says', 'like', 'percent', 'said']\n",
      "Topic2:\n",
      "['candidate', 'email', 'percent', 'election', 'party', 'fbi', 'presidential', 'emails', 'bernie', 'state', 'voters', 'campaign', 'democratic', 'hillary', 'sanders']\n",
      "Topic3:\n",
      "['korea', 'government', 'united', 'russian', 'officials', 'north', 'military', 'security', 'obama', 'president', 'syria', 'state', 'russia', 'mr', 'police']\n",
      "Topic4:\n"
     ]
    },
    {
     "ename": "IndexError",
     "evalue": "index 4 is out of bounds for axis 0 with size 4",
     "output_type": "error",
     "traceback": [
      "\u001b[1;31m---------------------------------------------------------------------------\u001b[0m",
      "\u001b[1;31mIndexError\u001b[0m                                Traceback (most recent call last)",
      "\u001b[1;32m<ipython-input-25-d8783703c616>\u001b[0m in \u001b[0;36m<module>\u001b[1;34m\u001b[0m\n\u001b[0;32m      6\u001b[0m     \u001b[0mword_list\u001b[0m\u001b[1;33m=\u001b[0m\u001b[1;33m[\u001b[0m\u001b[1;33m]\u001b[0m\u001b[1;33m\u001b[0m\u001b[1;33m\u001b[0m\u001b[0m\n\u001b[0;32m      7\u001b[0m     \u001b[0mprint\u001b[0m\u001b[1;33m(\u001b[0m\u001b[1;34m\"Topic%d:\"\u001b[0m\u001b[1;33m%\u001b[0m \u001b[0mi\u001b[0m\u001b[1;33m)\u001b[0m\u001b[1;33m\u001b[0m\u001b[1;33m\u001b[0m\u001b[0m\n\u001b[1;32m----> 8\u001b[1;33m     \u001b[1;32mfor\u001b[0m \u001b[0mj\u001b[0m \u001b[1;32min\u001b[0m \u001b[0mnmf\u001b[0m\u001b[1;33m.\u001b[0m\u001b[0mcomponents_\u001b[0m\u001b[1;33m.\u001b[0m\u001b[0margsort\u001b[0m\u001b[1;33m(\u001b[0m\u001b[1;33m)\u001b[0m\u001b[1;33m[\u001b[0m\u001b[0mi\u001b[0m\u001b[1;33m,\u001b[0m\u001b[1;33m-\u001b[0m\u001b[1;36m16\u001b[0m\u001b[1;33m:\u001b[0m\u001b[1;33m-\u001b[0m\u001b[1;36m1\u001b[0m\u001b[1;33m]\u001b[0m\u001b[1;33m:\u001b[0m\u001b[1;33m\u001b[0m\u001b[1;33m\u001b[0m\u001b[0m\n\u001b[0m\u001b[0;32m      9\u001b[0m         \u001b[0mword_list\u001b[0m\u001b[1;33m.\u001b[0m\u001b[0mappend\u001b[0m\u001b[1;33m(\u001b[0m\u001b[0mterms\u001b[0m\u001b[1;33m[\u001b[0m\u001b[0mj\u001b[0m\u001b[1;33m]\u001b[0m\u001b[1;33m)\u001b[0m\u001b[1;33m\u001b[0m\u001b[1;33m\u001b[0m\u001b[0m\n\u001b[0;32m     10\u001b[0m     \u001b[0mprint\u001b[0m\u001b[1;33m(\u001b[0m\u001b[0mword_list\u001b[0m\u001b[1;33m)\u001b[0m\u001b[1;33m\u001b[0m\u001b[1;33m\u001b[0m\u001b[0m\n",
      "\u001b[1;31mIndexError\u001b[0m: index 4 is out of bounds for axis 0 with size 4"
     ]
    }
   ],
   "source": [
    "from sklearn.decomposition import NMF\n",
    "\n",
    "nmf  = NMF(n_components = 4)\n",
    "nmf.fit(tfidf)\n",
    "for i in range(0,k):\n",
    "    word_list=[]\n",
    "    print(\"Topic%d:\"% i)\n",
    "    for j in nmf.components_.argsort()[i,-16:-1]:\n",
    "        word_list.append(terms[j])\n",
    "    print(word_list)"
   ]
  }
 ],
 "metadata": {
  "kernelspec": {
   "display_name": "Python 3",
   "language": "python",
   "name": "python3"
  },
  "language_info": {
   "codemirror_mode": {
    "name": "ipython",
    "version": 3
   },
   "file_extension": ".py",
   "mimetype": "text/x-python",
   "name": "python",
   "nbconvert_exporter": "python",
   "pygments_lexer": "ipython3",
   "version": "3.7.3"
  }
 },
 "nbformat": 4,
 "nbformat_minor": 1
}
